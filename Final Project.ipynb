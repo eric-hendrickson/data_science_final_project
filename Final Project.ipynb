{
 "cells": [
  {
   "cell_type": "markdown",
   "metadata": {},
   "source": [
    "<h1 style=\"font-size:42px; text-align:center; margin-bottom:30px;\"><span style=\"color:SteelBlue\"></span>Final Project</h1>\n",
    "<hr>\n",
    "\n",
    "## Schema\n",
    "- LotArea: Lot size in square feet\n",
    "- Neighborhood: Physical locations within Ames city limits\n",
    "- BldgType: Type of dwelling\n",
    "       1Fam:\tSingle-family Detached\t\n",
    "       2FmCon:\tTwo-family Conversion; originally built as one-family dwelling\n",
    "       Duplx:\tDuplex\n",
    "       TwnhsE:\tTownhouse End Unit\n",
    "       TwnhsI:\tTownhouse Inside Unit\n",
    "- YearBuilt: Original construction date\n",
    "- YearRemodAdd: Remodel date (same as construction date if no remodeling or additions)\n",
    "- MasVnrArea: Masonry veneer area in square feet\n",
    "- TotalBsmtSF: Total square feet of basement area\n",
    "- CentralAir: Central air conditioning\n",
    "- 1stFlrSF: irst Floor square feet\n",
    "- 2ndFlrSF: Second floor square feet\n",
    "- GrLivArea: Above grade (ground) living area square feet\n",
    "- BsmtFullBath: Basement full bathrooms\n",
    "- BsmtHalfBath: Basement half bathrooms\n",
    "- FullBath: Full bathrooms above grade\n",
    "- HalfBath: Half baths above grade\n",
    "- BedroomAbvGr: Bedrooms above grade (does NOT include basement bedrooms)\n",
    "- KitchenAbvGr: Kitchens above grade\n",
    "- TotRmsAbvGrd: Total rooms above grade (does not include bathrooms)\n",
    "- Fireplaces: Number of fireplaces\n",
    "- GarageType: Garage location\n",
    "       2Types\tMore than one type of garage\n",
    "       Attchd\tAttached to home\n",
    "       Basment\tBasement Garage\n",
    "       BuiltIn\tBuilt-In (Garage part of house - typically has room above garage)\n",
    "       CarPort\tCar Port\n",
    "       Detchd\tDetached from home\n",
    "       NA\tNo Garage\n",
    "- GarageYrBlt: Year garage was built\n",
    "- GarageCars: Size of garage in car capacity\n",
    "- GarageArea: Size of garage in square feet\n",
    "- MoSold: Month Sold (MM)\n",
    "- YrSold: Year Sold (YYYY)\n",
    "- SalePrice: Dollar amount unit sold for\n",
    "- Siding: Exterior covering on house\n",
    "\n",
    "The outline to follow has been included down below. Each topic has the steps included with a blank cell, feel free to create as many new cells to keep your code separated.\n",
    "\n",
    "Extra challenge:  If you want to make a categorical prediction, create a new column and bin the SalePrice into three categories (small, medium and large) then remove the SalePrice and try to predict that new column."
   ]
  },
  {
   "cell_type": "markdown",
   "metadata": {},
   "source": [
    "<h1 style=\"font-size:42px; text-align:center; margin-bottom:30px;\"><span style=\"color:SteelBlue\"></span> Exploratory Analysis</h1>\n",
    "<hr>"
   ]
  },
  {
   "cell_type": "markdown",
   "metadata": {},
   "source": [
    "### First, let's import libraries and load the dataset."
   ]
  },
  {
   "cell_type": "code",
   "execution_count": 4,
   "metadata": {},
   "outputs": [],
   "source": [
    "# NumPy for numerical computing\n",
    "import numpy as np\n",
    "\n",
    "# Pandas for DataFrames\n",
    "import pandas as pd\n",
    "pd.set_option('display.max_columns', 100)\n",
    "pd.set_option('display.float_format', lambda x: '%.3f' % x)\n",
    "\n",
    "# Matplotlib for visualization\n",
    "from matplotlib import pyplot as plt\n",
    "\n",
    "# display plots in the notebook\n",
    "%matplotlib inline\n",
    "\n",
    "# Seaborn for easier visualization\n",
    "import seaborn as sns"
   ]
  },
  {
   "cell_type": "code",
   "execution_count": 5,
   "metadata": {},
   "outputs": [],
   "source": [
    "# read in csv\n",
    "df = pd.read_csv('./house.csv')"
   ]
  },
  {
   "cell_type": "markdown",
   "metadata": {},
   "source": [
    "# 1. Basic information"
   ]
  },
  {
   "cell_type": "code",
   "execution_count": 12,
   "metadata": {},
   "outputs": [
    {
     "data": {
      "text/plain": [
       "(1460, 27)"
      ]
     },
     "execution_count": 12,
     "metadata": {},
     "output_type": "execute_result"
    }
   ],
   "source": [
    "df.shape"
   ]
  },
  {
   "cell_type": "code",
   "execution_count": 13,
   "metadata": {},
   "outputs": [
    {
     "data": {
      "text/plain": [
       "LotArea           int64\n",
       "Neighborhood     object\n",
       "BldgType         object\n",
       "YearBuilt         int64\n",
       "YearRemodAdd      int64\n",
       "MasVnrArea      float64\n",
       "TotalBsmtSF       int64\n",
       "CentralAir       object\n",
       "1stFlrSF          int64\n",
       "2ndFlrSF          int64\n",
       "GrLivArea         int64\n",
       "BsmtFullBath      int64\n",
       "BsmtHalfBath      int64\n",
       "FullBath          int64\n",
       "HalfBath          int64\n",
       "BedroomAbvGr      int64\n",
       "KitchenAbvGr      int64\n",
       "TotRmsAbvGrd      int64\n",
       "Fireplaces        int64\n",
       "GarageType       object\n",
       "GarageYrBlt     float64\n",
       "GarageCars        int64\n",
       "GarageArea        int64\n",
       "MoSold            int64\n",
       "YrSold            int64\n",
       "SalePrice         int64\n",
       "Siding           object\n",
       "dtype: object"
      ]
     },
     "execution_count": 13,
     "metadata": {},
     "output_type": "execute_result"
    }
   ],
   "source": [
    "df.dtypes"
   ]
  },
  {
   "cell_type": "code",
   "execution_count": 15,
   "metadata": {},
   "outputs": [
    {
     "data": {
      "text/html": [
       "<div>\n",
       "<style scoped>\n",
       "    .dataframe tbody tr th:only-of-type {\n",
       "        vertical-align: middle;\n",
       "    }\n",
       "\n",
       "    .dataframe tbody tr th {\n",
       "        vertical-align: top;\n",
       "    }\n",
       "\n",
       "    .dataframe thead th {\n",
       "        text-align: right;\n",
       "    }\n",
       "</style>\n",
       "<table border=\"1\" class=\"dataframe\">\n",
       "  <thead>\n",
       "    <tr style=\"text-align: right;\">\n",
       "      <th></th>\n",
       "      <th>LotArea</th>\n",
       "      <th>Neighborhood</th>\n",
       "      <th>BldgType</th>\n",
       "      <th>YearBuilt</th>\n",
       "      <th>YearRemodAdd</th>\n",
       "      <th>MasVnrArea</th>\n",
       "      <th>TotalBsmtSF</th>\n",
       "      <th>CentralAir</th>\n",
       "      <th>1stFlrSF</th>\n",
       "      <th>2ndFlrSF</th>\n",
       "      <th>GrLivArea</th>\n",
       "      <th>BsmtFullBath</th>\n",
       "      <th>BsmtHalfBath</th>\n",
       "      <th>FullBath</th>\n",
       "      <th>HalfBath</th>\n",
       "      <th>BedroomAbvGr</th>\n",
       "      <th>KitchenAbvGr</th>\n",
       "      <th>TotRmsAbvGrd</th>\n",
       "      <th>Fireplaces</th>\n",
       "      <th>GarageType</th>\n",
       "      <th>GarageYrBlt</th>\n",
       "      <th>GarageCars</th>\n",
       "      <th>GarageArea</th>\n",
       "      <th>MoSold</th>\n",
       "      <th>YrSold</th>\n",
       "      <th>SalePrice</th>\n",
       "      <th>Siding</th>\n",
       "    </tr>\n",
       "  </thead>\n",
       "  <tbody>\n",
       "    <tr>\n",
       "      <th>0</th>\n",
       "      <td>8450</td>\n",
       "      <td>CollgCr</td>\n",
       "      <td>1Fam</td>\n",
       "      <td>2003</td>\n",
       "      <td>2003</td>\n",
       "      <td>196.000</td>\n",
       "      <td>856</td>\n",
       "      <td>Y</td>\n",
       "      <td>856</td>\n",
       "      <td>854</td>\n",
       "      <td>1710</td>\n",
       "      <td>1</td>\n",
       "      <td>0</td>\n",
       "      <td>2</td>\n",
       "      <td>1</td>\n",
       "      <td>3</td>\n",
       "      <td>1</td>\n",
       "      <td>8</td>\n",
       "      <td>0</td>\n",
       "      <td>Attchd</td>\n",
       "      <td>2003.000</td>\n",
       "      <td>2</td>\n",
       "      <td>548</td>\n",
       "      <td>2</td>\n",
       "      <td>2008</td>\n",
       "      <td>208500</td>\n",
       "      <td>VinylSd</td>\n",
       "    </tr>\n",
       "    <tr>\n",
       "      <th>1</th>\n",
       "      <td>9600</td>\n",
       "      <td>Veenker</td>\n",
       "      <td>1Fam</td>\n",
       "      <td>1976</td>\n",
       "      <td>1976</td>\n",
       "      <td>0.000</td>\n",
       "      <td>1262</td>\n",
       "      <td>Y</td>\n",
       "      <td>1262</td>\n",
       "      <td>0</td>\n",
       "      <td>1262</td>\n",
       "      <td>0</td>\n",
       "      <td>1</td>\n",
       "      <td>2</td>\n",
       "      <td>0</td>\n",
       "      <td>3</td>\n",
       "      <td>1</td>\n",
       "      <td>6</td>\n",
       "      <td>1</td>\n",
       "      <td>Attchd</td>\n",
       "      <td>1976.000</td>\n",
       "      <td>2</td>\n",
       "      <td>460</td>\n",
       "      <td>5</td>\n",
       "      <td>2007</td>\n",
       "      <td>181500</td>\n",
       "      <td>MetalSd</td>\n",
       "    </tr>\n",
       "    <tr>\n",
       "      <th>2</th>\n",
       "      <td>11250</td>\n",
       "      <td>CollgCr</td>\n",
       "      <td>1Fam</td>\n",
       "      <td>2001</td>\n",
       "      <td>2002</td>\n",
       "      <td>162.000</td>\n",
       "      <td>920</td>\n",
       "      <td>Y</td>\n",
       "      <td>920</td>\n",
       "      <td>866</td>\n",
       "      <td>1786</td>\n",
       "      <td>1</td>\n",
       "      <td>0</td>\n",
       "      <td>2</td>\n",
       "      <td>1</td>\n",
       "      <td>3</td>\n",
       "      <td>1</td>\n",
       "      <td>6</td>\n",
       "      <td>1</td>\n",
       "      <td>Attchd</td>\n",
       "      <td>2001.000</td>\n",
       "      <td>2</td>\n",
       "      <td>608</td>\n",
       "      <td>9</td>\n",
       "      <td>2008</td>\n",
       "      <td>223500</td>\n",
       "      <td>VinylSd</td>\n",
       "    </tr>\n",
       "    <tr>\n",
       "      <th>3</th>\n",
       "      <td>9550</td>\n",
       "      <td>Crawfor</td>\n",
       "      <td>1Fam</td>\n",
       "      <td>1915</td>\n",
       "      <td>1970</td>\n",
       "      <td>0.000</td>\n",
       "      <td>756</td>\n",
       "      <td>Y</td>\n",
       "      <td>961</td>\n",
       "      <td>756</td>\n",
       "      <td>1717</td>\n",
       "      <td>1</td>\n",
       "      <td>0</td>\n",
       "      <td>1</td>\n",
       "      <td>0</td>\n",
       "      <td>3</td>\n",
       "      <td>1</td>\n",
       "      <td>7</td>\n",
       "      <td>1</td>\n",
       "      <td>Detchd</td>\n",
       "      <td>1998.000</td>\n",
       "      <td>3</td>\n",
       "      <td>642</td>\n",
       "      <td>2</td>\n",
       "      <td>2006</td>\n",
       "      <td>140000</td>\n",
       "      <td>Wd Sdng</td>\n",
       "    </tr>\n",
       "    <tr>\n",
       "      <th>4</th>\n",
       "      <td>14260</td>\n",
       "      <td>NoRidge</td>\n",
       "      <td>1Fam</td>\n",
       "      <td>2000</td>\n",
       "      <td>2000</td>\n",
       "      <td>350.000</td>\n",
       "      <td>1145</td>\n",
       "      <td>Y</td>\n",
       "      <td>1145</td>\n",
       "      <td>1053</td>\n",
       "      <td>2198</td>\n",
       "      <td>1</td>\n",
       "      <td>0</td>\n",
       "      <td>2</td>\n",
       "      <td>1</td>\n",
       "      <td>4</td>\n",
       "      <td>1</td>\n",
       "      <td>9</td>\n",
       "      <td>1</td>\n",
       "      <td>Attchd</td>\n",
       "      <td>2000.000</td>\n",
       "      <td>3</td>\n",
       "      <td>836</td>\n",
       "      <td>12</td>\n",
       "      <td>2008</td>\n",
       "      <td>250000</td>\n",
       "      <td>VinylSd</td>\n",
       "    </tr>\n",
       "  </tbody>\n",
       "</table>\n",
       "</div>"
      ],
      "text/plain": [
       "   LotArea Neighborhood BldgType  YearBuilt  YearRemodAdd  MasVnrArea  \\\n",
       "0     8450      CollgCr     1Fam       2003          2003     196.000   \n",
       "1     9600      Veenker     1Fam       1976          1976       0.000   \n",
       "2    11250      CollgCr     1Fam       2001          2002     162.000   \n",
       "3     9550      Crawfor     1Fam       1915          1970       0.000   \n",
       "4    14260      NoRidge     1Fam       2000          2000     350.000   \n",
       "\n",
       "   TotalBsmtSF CentralAir  1stFlrSF  2ndFlrSF  GrLivArea  BsmtFullBath  \\\n",
       "0          856          Y       856       854       1710             1   \n",
       "1         1262          Y      1262         0       1262             0   \n",
       "2          920          Y       920       866       1786             1   \n",
       "3          756          Y       961       756       1717             1   \n",
       "4         1145          Y      1145      1053       2198             1   \n",
       "\n",
       "   BsmtHalfBath  FullBath  HalfBath  BedroomAbvGr  KitchenAbvGr  TotRmsAbvGrd  \\\n",
       "0             0         2         1             3             1             8   \n",
       "1             1         2         0             3             1             6   \n",
       "2             0         2         1             3             1             6   \n",
       "3             0         1         0             3             1             7   \n",
       "4             0         2         1             4             1             9   \n",
       "\n",
       "   Fireplaces GarageType  GarageYrBlt  GarageCars  GarageArea  MoSold  YrSold  \\\n",
       "0           0     Attchd     2003.000           2         548       2    2008   \n",
       "1           1     Attchd     1976.000           2         460       5    2007   \n",
       "2           1     Attchd     2001.000           2         608       9    2008   \n",
       "3           1     Detchd     1998.000           3         642       2    2006   \n",
       "4           1     Attchd     2000.000           3         836      12    2008   \n",
       "\n",
       "   SalePrice   Siding  \n",
       "0     208500  VinylSd  \n",
       "1     181500  MetalSd  \n",
       "2     223500  VinylSd  \n",
       "3     140000  Wd Sdng  \n",
       "4     250000  VinylSd  "
      ]
     },
     "execution_count": 15,
     "metadata": {},
     "output_type": "execute_result"
    }
   ],
   "source": [
    "df.head()"
   ]
  },
  {
   "cell_type": "markdown",
   "metadata": {},
   "source": [
    "# 2. Distributions of numeric features"
   ]
  },
  {
   "cell_type": "code",
   "execution_count": 17,
   "metadata": {},
   "outputs": [
    {
     "data": {
      "text/plain": [
       "array([[<matplotlib.axes._subplots.AxesSubplot object at 0x1a17c699b0>,\n",
       "        <matplotlib.axes._subplots.AxesSubplot object at 0x1a231eae48>,\n",
       "        <matplotlib.axes._subplots.AxesSubplot object at 0x1a2321d198>,\n",
       "        <matplotlib.axes._subplots.AxesSubplot object at 0x1a232444a8>,\n",
       "        <matplotlib.axes._subplots.AxesSubplot object at 0x1a2326d7b8>],\n",
       "       [<matplotlib.axes._subplots.AxesSubplot object at 0x1a2326d7f0>,\n",
       "        <matplotlib.axes._subplots.AxesSubplot object at 0x1a232bedd8>,\n",
       "        <matplotlib.axes._subplots.AxesSubplot object at 0x1a232f0128>,\n",
       "        <matplotlib.axes._subplots.AxesSubplot object at 0x1a2331b438>,\n",
       "        <matplotlib.axes._subplots.AxesSubplot object at 0x1a23341748>],\n",
       "       [<matplotlib.axes._subplots.AxesSubplot object at 0x1a2336ba58>,\n",
       "        <matplotlib.axes._subplots.AxesSubplot object at 0x1a23393d68>,\n",
       "        <matplotlib.axes._subplots.AxesSubplot object at 0x1a233c40b8>,\n",
       "        <matplotlib.axes._subplots.AxesSubplot object at 0x1a233ec3c8>,\n",
       "        <matplotlib.axes._subplots.AxesSubplot object at 0x1a234176d8>],\n",
       "       [<matplotlib.axes._subplots.AxesSubplot object at 0x1a2343e9e8>,\n",
       "        <matplotlib.axes._subplots.AxesSubplot object at 0x1a23468cf8>,\n",
       "        <matplotlib.axes._subplots.AxesSubplot object at 0x1a2349c048>,\n",
       "        <matplotlib.axes._subplots.AxesSubplot object at 0x1a234c3358>,\n",
       "        <matplotlib.axes._subplots.AxesSubplot object at 0x1a234eb668>],\n",
       "       [<matplotlib.axes._subplots.AxesSubplot object at 0x1a23514978>,\n",
       "        <matplotlib.axes._subplots.AxesSubplot object at 0x1a2353dc88>,\n",
       "        <matplotlib.axes._subplots.AxesSubplot object at 0x1a23569f98>,\n",
       "        <matplotlib.axes._subplots.AxesSubplot object at 0x1a235992e8>,\n",
       "        <matplotlib.axes._subplots.AxesSubplot object at 0x1a235c25f8>]],\n",
       "      dtype=object)"
      ]
     },
     "execution_count": 17,
     "metadata": {},
     "output_type": "execute_result"
    },
    {
     "data": {
      "image/png": "[encoded data removed]",
      "text/plain": [
       "<Figure size 720x720 with 25 Axes>"
      ]
     },
     "metadata": {},
     "output_type": "display_data"
    }
   ],
   "source": [
    "df.hist(xrot=-45, figsize=(10, 10))"
   ]
  },
  {
   "cell_type": "code",
   "execution_count": 19,
   "metadata": {},
   "outputs": [
    {
     "data": {
      "text/html": [
       "<div>\n",
       "<style scoped>\n",
       "    .dataframe tbody tr th:only-of-type {\n",
       "        vertical-align: middle;\n",
       "    }\n",
       "\n",
       "    .dataframe tbody tr th {\n",
       "        vertical-align: top;\n",
       "    }\n",
       "\n",
       "    .dataframe thead th {\n",
       "        text-align: right;\n",
       "    }\n",
       "</style>\n",
       "<table border=\"1\" class=\"dataframe\">\n",
       "  <thead>\n",
       "    <tr style=\"text-align: right;\">\n",
       "      <th></th>\n",
       "      <th>LotArea</th>\n",
       "      <th>YearBuilt</th>\n",
       "      <th>YearRemodAdd</th>\n",
       "      <th>MasVnrArea</th>\n",
       "      <th>TotalBsmtSF</th>\n",
       "      <th>1stFlrSF</th>\n",
       "      <th>2ndFlrSF</th>\n",
       "      <th>GrLivArea</th>\n",
       "      <th>BsmtFullBath</th>\n",
       "      <th>BsmtHalfBath</th>\n",
       "      <th>FullBath</th>\n",
       "      <th>HalfBath</th>\n",
       "      <th>BedroomAbvGr</th>\n",
       "      <th>KitchenAbvGr</th>\n",
       "      <th>TotRmsAbvGrd</th>\n",
       "      <th>Fireplaces</th>\n",
       "      <th>GarageYrBlt</th>\n",
       "      <th>GarageCars</th>\n",
       "      <th>GarageArea</th>\n",
       "      <th>MoSold</th>\n",
       "      <th>YrSold</th>\n",
       "      <th>SalePrice</th>\n",
       "    </tr>\n",
       "  </thead>\n",
       "  <tbody>\n",
       "    <tr>\n",
       "      <th>count</th>\n",
       "      <td>1460.000</td>\n",
       "      <td>1460.000</td>\n",
       "      <td>1460.000</td>\n",
       "      <td>1452.000</td>\n",
       "      <td>1460.000</td>\n",
       "      <td>1460.000</td>\n",
       "      <td>1460.000</td>\n",
       "      <td>1460.000</td>\n",
       "      <td>1460.000</td>\n",
       "      <td>1460.000</td>\n",
       "      <td>1460.000</td>\n",
       "      <td>1460.000</td>\n",
       "      <td>1460.000</td>\n",
       "      <td>1460.000</td>\n",
       "      <td>1460.000</td>\n",
       "      <td>1460.000</td>\n",
       "      <td>1379.000</td>\n",
       "      <td>1460.000</td>\n",
       "      <td>1460.000</td>\n",
       "      <td>1460.000</td>\n",
       "      <td>1460.000</td>\n",
       "      <td>1460.000</td>\n",
       "    </tr>\n",
       "    <tr>\n",
       "      <th>mean</th>\n",
       "      <td>10516.828</td>\n",
       "      <td>1971.268</td>\n",
       "      <td>1984.866</td>\n",
       "      <td>103.685</td>\n",
       "      <td>1057.429</td>\n",
       "      <td>1162.627</td>\n",
       "      <td>346.992</td>\n",
       "      <td>1515.464</td>\n",
       "      <td>0.425</td>\n",
       "      <td>0.058</td>\n",
       "      <td>1.565</td>\n",
       "      <td>0.383</td>\n",
       "      <td>2.866</td>\n",
       "      <td>1.047</td>\n",
       "      <td>6.518</td>\n",
       "      <td>0.613</td>\n",
       "      <td>1978.506</td>\n",
       "      <td>1.767</td>\n",
       "      <td>472.980</td>\n",
       "      <td>6.322</td>\n",
       "      <td>2007.816</td>\n",
       "      <td>180921.196</td>\n",
       "    </tr>\n",
       "    <tr>\n",
       "      <th>std</th>\n",
       "      <td>9981.265</td>\n",
       "      <td>30.203</td>\n",
       "      <td>20.645</td>\n",
       "      <td>181.066</td>\n",
       "      <td>438.705</td>\n",
       "      <td>386.588</td>\n",
       "      <td>436.528</td>\n",
       "      <td>525.480</td>\n",
       "      <td>0.519</td>\n",
       "      <td>0.239</td>\n",
       "      <td>0.551</td>\n",
       "      <td>0.503</td>\n",
       "      <td>0.816</td>\n",
       "      <td>0.220</td>\n",
       "      <td>1.625</td>\n",
       "      <td>0.645</td>\n",
       "      <td>24.690</td>\n",
       "      <td>0.747</td>\n",
       "      <td>213.805</td>\n",
       "      <td>2.704</td>\n",
       "      <td>1.328</td>\n",
       "      <td>79442.503</td>\n",
       "    </tr>\n",
       "    <tr>\n",
       "      <th>min</th>\n",
       "      <td>1300.000</td>\n",
       "      <td>1872.000</td>\n",
       "      <td>1950.000</td>\n",
       "      <td>0.000</td>\n",
       "      <td>0.000</td>\n",
       "      <td>334.000</td>\n",
       "      <td>0.000</td>\n",
       "      <td>334.000</td>\n",
       "      <td>0.000</td>\n",
       "      <td>0.000</td>\n",
       "      <td>0.000</td>\n",
       "      <td>0.000</td>\n",
       "      <td>0.000</td>\n",
       "      <td>0.000</td>\n",
       "      <td>2.000</td>\n",
       "      <td>0.000</td>\n",
       "      <td>1900.000</td>\n",
       "      <td>0.000</td>\n",
       "      <td>0.000</td>\n",
       "      <td>1.000</td>\n",
       "      <td>2006.000</td>\n",
       "      <td>34900.000</td>\n",
       "    </tr>\n",
       "    <tr>\n",
       "      <th>25%</th>\n",
       "      <td>7553.500</td>\n",
       "      <td>1954.000</td>\n",
       "      <td>1967.000</td>\n",
       "      <td>0.000</td>\n",
       "      <td>795.750</td>\n",
       "      <td>882.000</td>\n",
       "      <td>0.000</td>\n",
       "      <td>1129.500</td>\n",
       "      <td>0.000</td>\n",
       "      <td>0.000</td>\n",
       "      <td>1.000</td>\n",
       "      <td>0.000</td>\n",
       "      <td>2.000</td>\n",
       "      <td>1.000</td>\n",
       "      <td>5.000</td>\n",
       "      <td>0.000</td>\n",
       "      <td>1961.000</td>\n",
       "      <td>1.000</td>\n",
       "      <td>334.500</td>\n",
       "      <td>5.000</td>\n",
       "      <td>2007.000</td>\n",
       "      <td>129975.000</td>\n",
       "    </tr>\n",
       "    <tr>\n",
       "      <th>50%</th>\n",
       "      <td>9478.500</td>\n",
       "      <td>1973.000</td>\n",
       "      <td>1994.000</td>\n",
       "      <td>0.000</td>\n",
       "      <td>991.500</td>\n",
       "      <td>1087.000</td>\n",
       "      <td>0.000</td>\n",
       "      <td>1464.000</td>\n",
       "      <td>0.000</td>\n",
       "      <td>0.000</td>\n",
       "      <td>2.000</td>\n",
       "      <td>0.000</td>\n",
       "      <td>3.000</td>\n",
       "      <td>1.000</td>\n",
       "      <td>6.000</td>\n",
       "      <td>1.000</td>\n",
       "      <td>1980.000</td>\n",
       "      <td>2.000</td>\n",
       "      <td>480.000</td>\n",
       "      <td>6.000</td>\n",
       "      <td>2008.000</td>\n",
       "      <td>163000.000</td>\n",
       "    </tr>\n",
       "    <tr>\n",
       "      <th>75%</th>\n",
       "      <td>11601.500</td>\n",
       "      <td>2000.000</td>\n",
       "      <td>2004.000</td>\n",
       "      <td>166.000</td>\n",
       "      <td>1298.250</td>\n",
       "      <td>1391.250</td>\n",
       "      <td>728.000</td>\n",
       "      <td>1776.750</td>\n",
       "      <td>1.000</td>\n",
       "      <td>0.000</td>\n",
       "      <td>2.000</td>\n",
       "      <td>1.000</td>\n",
       "      <td>3.000</td>\n",
       "      <td>1.000</td>\n",
       "      <td>7.000</td>\n",
       "      <td>1.000</td>\n",
       "      <td>2002.000</td>\n",
       "      <td>2.000</td>\n",
       "      <td>576.000</td>\n",
       "      <td>8.000</td>\n",
       "      <td>2009.000</td>\n",
       "      <td>214000.000</td>\n",
       "    </tr>\n",
       "    <tr>\n",
       "      <th>max</th>\n",
       "      <td>215245.000</td>\n",
       "      <td>2010.000</td>\n",
       "      <td>2010.000</td>\n",
       "      <td>1600.000</td>\n",
       "      <td>6110.000</td>\n",
       "      <td>4692.000</td>\n",
       "      <td>2065.000</td>\n",
       "      <td>5642.000</td>\n",
       "      <td>3.000</td>\n",
       "      <td>2.000</td>\n",
       "      <td>3.000</td>\n",
       "      <td>2.000</td>\n",
       "      <td>8.000</td>\n",
       "      <td>3.000</td>\n",
       "      <td>14.000</td>\n",
       "      <td>3.000</td>\n",
       "      <td>2010.000</td>\n",
       "      <td>4.000</td>\n",
       "      <td>1418.000</td>\n",
       "      <td>12.000</td>\n",
       "      <td>2010.000</td>\n",
       "      <td>755000.000</td>\n",
       "    </tr>\n",
       "  </tbody>\n",
       "</table>\n",
       "</div>"
      ],
      "text/plain": [
       "         LotArea  YearBuilt  YearRemodAdd  MasVnrArea  TotalBsmtSF  1stFlrSF  \\\n",
       "count   1460.000   1460.000      1460.000    1452.000     1460.000  1460.000   \n",
       "mean   10516.828   1971.268      1984.866     103.685     1057.429  1162.627   \n",
       "std     9981.265     30.203        20.645     181.066      438.705   386.588   \n",
       "min     1300.000   1872.000      1950.000       0.000        0.000   334.000   \n",
       "25%     7553.500   1954.000      1967.000       0.000      795.750   882.000   \n",
       "50%     9478.500   1973.000      1994.000       0.000      991.500  1087.000   \n",
       "75%    11601.500   2000.000      2004.000     166.000     1298.250  1391.250   \n",
       "max   215245.000   2010.000      2010.000    1600.000     6110.000  4692.000   \n",
       "\n",
       "       2ndFlrSF  GrLivArea  BsmtFullBath  BsmtHalfBath  FullBath  HalfBath  \\\n",
       "count  1460.000   1460.000      1460.000      1460.000  1460.000  1460.000   \n",
       "mean    346.992   1515.464         0.425         0.058     1.565     0.383   \n",
       "std     436.528    525.480         0.519         0.239     0.551     0.503   \n",
       "min       0.000    334.000         0.000         0.000     0.000     0.000   \n",
       "25%       0.000   1129.500         0.000         0.000     1.000     0.000   \n",
       "50%       0.000   1464.000         0.000         0.000     2.000     0.000   \n",
       "75%     728.000   1776.750         1.000         0.000     2.000     1.000   \n",
       "max    2065.000   5642.000         3.000         2.000     3.000     2.000   \n",
       "\n",
       "       BedroomAbvGr  KitchenAbvGr  TotRmsAbvGrd  Fireplaces  GarageYrBlt  \\\n",
       "count      1460.000      1460.000      1460.000    1460.000     1379.000   \n",
       "mean          2.866         1.047         6.518       0.613     1978.506   \n",
       "std           0.816         0.220         1.625       0.645       24.690   \n",
       "min           0.000         0.000         2.000       0.000     1900.000   \n",
       "25%           2.000         1.000         5.000       0.000     1961.000   \n",
       "50%           3.000         1.000         6.000       1.000     1980.000   \n",
       "75%           3.000         1.000         7.000       1.000     2002.000   \n",
       "max           8.000         3.000        14.000       3.000     2010.000   \n",
       "\n",
       "       GarageCars  GarageArea   MoSold   YrSold  SalePrice  \n",
       "count    1460.000    1460.000 1460.000 1460.000   1460.000  \n",
       "mean        1.767     472.980    6.322 2007.816 180921.196  \n",
       "std         0.747     213.805    2.704    1.328  79442.503  \n",
       "min         0.000       0.000    1.000 2006.000  34900.000  \n",
       "25%         1.000     334.500    5.000 2007.000 129975.000  \n",
       "50%         2.000     480.000    6.000 2008.000 163000.000  \n",
       "75%         2.000     576.000    8.000 2009.000 214000.000  \n",
       "max         4.000    1418.000   12.000 2010.000 755000.000  "
      ]
     },
     "execution_count": 19,
     "metadata": {},
     "output_type": "execute_result"
    }
   ],
   "source": [
    "df.describe()"
   ]
  },
  {
   "cell_type": "markdown",
   "metadata": {},
   "source": [
    "# 3. Distributions of categorical features"
   ]
  },
  {
   "cell_type": "code",
   "execution_count": 18,
   "metadata": {},
   "outputs": [
    {
     "data": {
      "text/html": [
       "<div>\n",
       "<style scoped>\n",
       "    .dataframe tbody tr th:only-of-type {\n",
       "        vertical-align: middle;\n",
       "    }\n",
       "\n",
       "    .dataframe tbody tr th {\n",
       "        vertical-align: top;\n",
       "    }\n",
       "\n",
       "    .dataframe thead th {\n",
       "        text-align: right;\n",
       "    }\n",
       "</style>\n",
       "<table border=\"1\" class=\"dataframe\">\n",
       "  <thead>\n",
       "    <tr style=\"text-align: right;\">\n",
       "      <th></th>\n",
       "      <th>Neighborhood</th>\n",
       "      <th>BldgType</th>\n",
       "      <th>CentralAir</th>\n",
       "      <th>GarageType</th>\n",
       "      <th>Siding</th>\n",
       "    </tr>\n",
       "  </thead>\n",
       "  <tbody>\n",
       "    <tr>\n",
       "      <th>count</th>\n",
       "      <td>1460</td>\n",
       "      <td>1460</td>\n",
       "      <td>1460</td>\n",
       "      <td>1379</td>\n",
       "      <td>1460</td>\n",
       "    </tr>\n",
       "    <tr>\n",
       "      <th>unique</th>\n",
       "      <td>25</td>\n",
       "      <td>5</td>\n",
       "      <td>2</td>\n",
       "      <td>6</td>\n",
       "      <td>15</td>\n",
       "    </tr>\n",
       "    <tr>\n",
       "      <th>top</th>\n",
       "      <td>NAmes</td>\n",
       "      <td>1Fam</td>\n",
       "      <td>Y</td>\n",
       "      <td>Attchd</td>\n",
       "      <td>VinylSd</td>\n",
       "    </tr>\n",
       "    <tr>\n",
       "      <th>freq</th>\n",
       "      <td>225</td>\n",
       "      <td>1220</td>\n",
       "      <td>1365</td>\n",
       "      <td>870</td>\n",
       "      <td>515</td>\n",
       "    </tr>\n",
       "  </tbody>\n",
       "</table>\n",
       "</div>"
      ],
      "text/plain": [
       "       Neighborhood BldgType CentralAir GarageType   Siding\n",
       "count          1460     1460       1460       1379     1460\n",
       "unique           25        5          2          6       15\n",
       "top           NAmes     1Fam          Y     Attchd  VinylSd\n",
       "freq            225     1220       1365        870      515"
      ]
     },
     "execution_count": 18,
     "metadata": {},
     "output_type": "execute_result"
    }
   ],
   "source": [
    "df.describe(include=[\"object\"])"
   ]
  },
  {
   "cell_type": "markdown",
   "metadata": {},
   "source": [
    "# 4. Segmentations"
   ]
  },
  {
   "cell_type": "code",
   "execution_count": 21,
   "metadata": {},
   "outputs": [
    {
     "data": {
      "text/plain": [
       "<matplotlib.axes._subplots.AxesSubplot at 0x1a17c2deb8>"
      ]
     },
     "execution_count": 21,
     "metadata": {},
     "output_type": "execute_result"
    },
    {
     "data": {
      "image/png": "[encoded data removed]",
      "text/plain": [
       "<Figure size 432x288 with 1 Axes>"
      ]
     },
     "metadata": {},
     "output_type": "display_data"
    }
   ],
   "source": [
    "sns.countplot(y='Neighborhood', data=df)"
   ]
  },
  {
   "cell_type": "code",
   "execution_count": 22,
   "metadata": {},
   "outputs": [
    {
     "data": {
      "text/plain": [
       "<matplotlib.axes._subplots.AxesSubplot at 0x1a174f2cf8>"
      ]
     },
     "execution_count": 22,
     "metadata": {},
     "output_type": "execute_result"
    },
    {
     "data": {
      "image/png": "[encoded data removed]",
      "text/plain": [
       "<Figure size 432x288 with 1 Axes>"
      ]
     },
     "metadata": {},
     "output_type": "display_data"
    }
   ],
   "source": [
    "sns.countplot(y='BldgType', data=df)"
   ]
  },
  {
   "cell_type": "code",
   "execution_count": 23,
   "metadata": {},
   "outputs": [
    {
     "data": {
      "text/plain": [
       "<matplotlib.axes._subplots.AxesSubplot at 0x1a23d33630>"
      ]
     },
     "execution_count": 23,
     "metadata": {},
     "output_type": "execute_result"
    },
    {
     "data": {
      "image/png": "[encoded data removed]",
      "text/plain": [
       "<Figure size 432x288 with 1 Axes>"
      ]
     },
     "metadata": {},
     "output_type": "display_data"
    }
   ],
   "source": [
    "sns.countplot(y='CentralAir', data=df)"
   ]
  },
  {
   "cell_type": "code",
   "execution_count": 24,
   "metadata": {},
   "outputs": [
    {
     "data": {
      "text/plain": [
       "<matplotlib.axes._subplots.AxesSubplot at 0x1a17c2dda0>"
      ]
     },
     "execution_count": 24,
     "metadata": {},
     "output_type": "execute_result"
    },
    {
     "data": {
      "image/png": "[encoded data removed]",
      "text/plain": [
       "<Figure size 432x288 with 1 Axes>"
      ]
     },
     "metadata": {},
     "output_type": "display_data"
    }
   ],
   "source": [
    "sns.countplot(y='GarageType', data=df)"
   ]
  },
  {
   "cell_type": "code",
   "execution_count": 25,
   "metadata": {},
   "outputs": [
    {
     "data": {
      "text/plain": [
       "<matplotlib.axes._subplots.AxesSubplot at 0x1a23e7a780>"
      ]
     },
     "execution_count": 25,
     "metadata": {},
     "output_type": "execute_result"
    },
    {
     "data": {
      "image/png": "[encoded data removed]",
      "text/plain": [
       "<Figure size 432x288 with 1 Axes>"
      ]
     },
     "metadata": {},
     "output_type": "display_data"
    }
   ],
   "source": [
    "sns.countplot(y='Siding', data=df)"
   ]
  },
  {
   "cell_type": "markdown",
   "metadata": {},
   "source": [
    "<h1 style=\"font-size:42px; text-align:center; margin-bottom:30px;\"><span style=\"color:SteelBlue\"></span> Data Cleaning</h1>\n",
    "<hr>"
   ]
  },
  {
   "cell_type": "markdown",
   "metadata": {},
   "source": [
    "# 1. Drop unwanted observations"
   ]
  },
  {
   "cell_type": "code",
   "execution_count": 26,
   "metadata": {},
   "outputs": [
    {
     "name": "stdout",
     "output_type": "stream",
     "text": [
      "(1460, 27)\n",
      "(1460, 27)\n"
     ]
    }
   ],
   "source": [
    "print(df.shape)\n",
    "df.drop_duplicates(inplace=True)\n",
    "print(df.shape)"
   ]
  },
  {
   "cell_type": "markdown",
   "metadata": {},
   "source": [
    "# 2. Fix structural errors"
   ]
  },
  {
   "cell_type": "code",
   "execution_count": 32,
   "metadata": {},
   "outputs": [
    {
     "name": "stdout",
     "output_type": "stream",
     "text": [
      "[ 8450  9600 11250 ... 17217 13175  9717]\n",
      "['CollgCr' 'Veenker' 'Crawfor' 'NoRidge' 'Mitchel' 'Somerst' 'NWAmes'\n",
      " 'OldTown' 'BrkSide' 'Sawyer' 'NridgHt' 'NAmes' 'SawyerW' 'IDOTRR'\n",
      " 'MeadowV' 'Edwards' 'Timber' 'Gilbert' 'StoneBr' 'ClearCr' 'NPkVill'\n",
      " 'Blmngtn' 'BrDale' 'SWISU' 'Blueste']\n",
      "['1Fam' '2fmCon' 'Duplex' 'TwnhsE' 'Twnhs']\n",
      "[2003 1976 2001 1915 2000 1993 2004 1973 1931 1939 1965 2005 1962 2006\n",
      " 1960 1929 1970 1967 1958 1930 2002 1968 2007 1951 1957 1927 1920 1966\n",
      " 1959 1994 1954 1953 1955 1983 1975 1997 1934 1963 1981 1964 1999 1972\n",
      " 1921 1945 1982 1998 1956 1948 1910 1995 1991 2009 1950 1961 1977 1985\n",
      " 1979 1885 1919 1990 1969 1935 1988 1971 1952 1936 1923 1924 1984 1926\n",
      " 1940 1941 1987 1986 2008 1908 1892 1916 1932 1918 1912 1947 1925 1900\n",
      " 1980 1989 1992 1949 1880 1928 1978 1922 1996 2010 1946 1913 1937 1942\n",
      " 1938 1974 1893 1914 1906 1890 1898 1904 1882 1875 1911 1917 1872 1905]\n",
      "[2003 1976 2002 1970 2000 1995 2005 1973 1950 1965 2006 1962 2007 1960\n",
      " 2001 1967 2004 2008 1997 1959 1990 1955 1983 1980 1966 1963 1987 1964\n",
      " 1972 1996 1998 1989 1953 1956 1968 1981 1992 2009 1982 1961 1993 1999\n",
      " 1985 1979 1977 1969 1958 1991 1971 1952 1975 2010 1984 1986 1994 1988\n",
      " 1954 1957 1951 1978 1974]\n",
      "[1.960e+02 0.000e+00 1.620e+02 3.500e+02 1.860e+02 2.400e+02 2.860e+02\n",
      " 3.060e+02 2.120e+02 1.800e+02 3.800e+02 2.810e+02 6.400e+02 2.000e+02\n",
      " 2.460e+02 1.320e+02 6.500e+02 1.010e+02 4.120e+02 2.720e+02 4.560e+02\n",
      " 1.031e+03 1.780e+02 5.730e+02 3.440e+02 2.870e+02 1.670e+02 1.115e+03\n",
      " 4.000e+01 1.040e+02 5.760e+02 4.430e+02 4.680e+02 6.600e+01 2.200e+01\n",
      " 2.840e+02 7.600e+01 2.030e+02 6.800e+01 1.830e+02 4.800e+01 2.800e+01\n",
      " 3.360e+02 6.000e+02 7.680e+02 4.800e+02 2.200e+02 1.840e+02 1.129e+03\n",
      " 1.160e+02 1.350e+02 2.660e+02 8.500e+01 3.090e+02 1.360e+02 2.880e+02\n",
      " 7.000e+01 3.200e+02 5.000e+01 1.200e+02 4.360e+02 2.520e+02 8.400e+01\n",
      " 6.640e+02 2.260e+02 3.000e+02 6.530e+02 1.120e+02 4.910e+02 2.680e+02\n",
      " 7.480e+02 9.800e+01 2.750e+02 1.380e+02 2.050e+02 2.620e+02 1.280e+02\n",
      " 2.600e+02 1.530e+02 6.400e+01 3.120e+02 1.600e+01 9.220e+02 1.420e+02\n",
      " 2.900e+02 1.270e+02 5.060e+02 2.970e+02 6.040e+02 2.540e+02 3.600e+01\n",
      " 1.020e+02 4.720e+02 4.810e+02 1.080e+02 3.020e+02 1.720e+02 3.990e+02\n",
      " 2.700e+02 4.600e+01 2.100e+02 1.740e+02 3.480e+02 3.150e+02 2.990e+02\n",
      " 3.400e+02 1.660e+02 7.200e+01 3.100e+01 3.400e+01 2.380e+02 1.600e+03\n",
      " 3.650e+02 5.600e+01 1.500e+02 2.780e+02 2.560e+02 2.250e+02 3.700e+02\n",
      " 3.880e+02 1.750e+02 2.960e+02 1.460e+02 1.130e+02 1.760e+02 6.160e+02\n",
      " 3.000e+01 1.060e+02 8.700e+02 3.620e+02 5.300e+02 5.000e+02 5.100e+02\n",
      " 2.470e+02 3.050e+02 2.550e+02 1.250e+02 1.000e+02 4.320e+02 1.260e+02\n",
      " 4.730e+02 7.400e+01 1.450e+02 2.320e+02 3.760e+02 4.200e+01 1.610e+02\n",
      " 1.100e+02 1.800e+01 2.240e+02 2.480e+02 8.000e+01 3.040e+02 2.150e+02\n",
      " 7.720e+02 4.350e+02 3.780e+02 5.620e+02 1.680e+02 8.900e+01 2.850e+02\n",
      " 3.600e+02 9.400e+01 3.330e+02 9.210e+02 7.620e+02 5.940e+02 2.190e+02\n",
      " 1.880e+02 4.790e+02 5.840e+02 1.820e+02 2.500e+02 2.920e+02 2.450e+02\n",
      " 2.070e+02 8.200e+01 9.700e+01 3.350e+02 2.080e+02 4.200e+02 1.700e+02\n",
      " 4.590e+02 2.800e+02 9.900e+01 1.920e+02 2.040e+02 2.330e+02 1.560e+02\n",
      " 4.520e+02 5.130e+02 2.610e+02 1.640e+02 2.590e+02 2.090e+02 2.630e+02\n",
      " 2.160e+02 3.510e+02 6.600e+02 3.810e+02 5.400e+01 5.280e+02 2.580e+02\n",
      " 4.640e+02 5.700e+01 1.470e+02 1.170e+03 2.930e+02 6.300e+02 4.660e+02\n",
      " 1.090e+02 4.100e+01 1.600e+02 2.890e+02 6.510e+02 1.690e+02 9.500e+01\n",
      " 4.420e+02 2.020e+02 3.380e+02 8.940e+02 3.280e+02 6.730e+02 6.030e+02\n",
      " 1.000e+00 3.750e+02 9.000e+01 3.800e+01 1.570e+02 1.100e+01 1.400e+02\n",
      " 1.300e+02 1.480e+02 8.600e+02 4.240e+02 1.047e+03 2.430e+02 8.160e+02\n",
      " 3.870e+02 2.230e+02 1.580e+02 1.370e+02 1.150e+02 1.890e+02 2.740e+02\n",
      " 1.170e+02 6.000e+01 1.220e+02 9.200e+01 4.150e+02 7.600e+02 2.700e+01\n",
      " 7.500e+01 3.610e+02 1.050e+02 3.420e+02 2.980e+02 5.410e+02 2.360e+02\n",
      " 1.440e+02 4.230e+02 4.400e+01 1.510e+02 9.750e+02 4.500e+02 2.300e+02\n",
      " 5.710e+02 2.400e+01 5.300e+01 2.060e+02 1.400e+01 3.240e+02 2.950e+02\n",
      " 3.960e+02 6.700e+01 1.540e+02 4.250e+02 4.500e+01 1.378e+03 3.370e+02\n",
      " 1.490e+02 1.430e+02 5.100e+01 1.710e+02 2.340e+02 6.300e+01 7.660e+02\n",
      " 3.200e+01 8.100e+01 1.630e+02 5.540e+02 2.180e+02 6.320e+02 1.140e+02\n",
      " 5.670e+02 3.590e+02 4.510e+02 6.210e+02 7.880e+02 8.600e+01 7.960e+02\n",
      " 3.910e+02 2.280e+02 8.800e+01 1.650e+02 4.280e+02 4.100e+02 5.640e+02\n",
      " 3.680e+02 3.180e+02 5.790e+02 6.500e+01 7.050e+02 4.080e+02 2.440e+02\n",
      " 1.230e+02 3.660e+02 7.310e+02 4.480e+02 2.940e+02 3.100e+02 2.370e+02\n",
      " 4.260e+02 9.600e+01 4.380e+02 1.940e+02 1.190e+02]\n",
      "[ 856 1262  920  756 1145  796 1686 1107  952  991 1040 1175  912 1494\n",
      " 1253  832 1004    0 1114 1029 1158  637 1777 1060 1566  900 1704 1484\n",
      "  520  649 1228 1234 1398 1561 1117 1097 1297 1057 1088 1350  840  938\n",
      " 1150 1752 1434 1656  736  955  794  816 1842  384 1425  970  860 1410\n",
      "  780  530 1370  576 1143 1947 1453  747 1304 2223  845 1086  462  672\n",
      " 1768  440  896 1237 1563 1065 1288  684  612 1013  990 1235  876 1214\n",
      "  824  680 1588  960  458  950 1610  741 1226 1053  641  789  793 1844\n",
      "  994 1264 1809 1028  729 1092 1125 1673  728  732 1080 1199 1362 1078\n",
      "  660 1008  924  992 1063 1267 1461 1907  928  864 1734  910 1490 1728\n",
      "  715  884  969 1710  825 1602 1200  572  774 1392 1232 1572 1541  882\n",
      " 1149  644 1617 1582  720 1064 1606 1202 1151 1052 2216  968  504 1188\n",
      " 1593  853  725 1431  855 1726 1360  755 1713 1121 1196  617  848 1424\n",
      " 1140 1100 1157 1212  689 1070 1436  686  798 1248 1498 1010  713 2392\n",
      "  630 1203  483 1373 1194 1462  894 1414  996 1694  735  540  626  948\n",
      " 1845 1020 1367 1444 1573 1302 1314  975 1604  963 1482  506  926 1422\n",
      "  802  740 1095 1385 1152 1240 1560 2121 1160  807 1468 1575  625  858\n",
      "  698 1079  768  795 1416 1003  702 1165 1470 2000  700  319  861 1896\n",
      "  697  972 2136  716 1347 1372 1249 1136 1502 1162  710 1719 1383  844\n",
      "  596 1056 3206 1358  943 1499 1922 1536 1208 1215  967  721 1684  536\n",
      "  958 1478  764 1848 1869  616  624  940 1142 1062  888  883 1394 1099\n",
      " 1268  953  744  608  847  683  870 1580 1856  982 1026 1293  939  784\n",
      " 1256  658 1041 1682  804  788 1144  961 1260 1310 1141  806 1281 1034\n",
      " 1276 1340 1344  988  651 1518  907  901  765  799  648 3094 1440 1258\n",
      "  915 1517  930  813 1533  872 1242 1364  588  709  560 1375 1277 1626\n",
      " 1488  808  547 1976 2153 1705 1833 1792 1216  999 1113 1073  954  264\n",
      " 1269  190 3200  866 1501  777 1218 1368 1084 2006 1244 3138 1379 1257\n",
      " 1452  528 2035  611  707  880 1051 1581 1838 1650  723  654 1204 1069\n",
      " 1709  998  993 1374 1389 1163 1122 1496  846  372 1164 1050 2042 1868\n",
      " 1437  742  770 1722 1814 1430 1058  908  600  965 1032 1299 1120  936\n",
      "  783 1822 1522  980 1116  978 1156  636 1554 1386  811 1520 1952 1766\n",
      "  981 1094 2109  525  776 1486 1629 1138 2077 1406 1021 1408  738 1477\n",
      " 2046  923 1291 1195 1190  874  551 1419 2444 1210  927 1112 1391 1800\n",
      "  360 1473 1643 1324  270  859  718 1176 1311  971 1742  941 1698 1584\n",
      " 1595  868 1153  893 1349 1337 1720 1479 1030 1318 1252  983 1860  836\n",
      " 1935 1614  761 1413  956  712  650  773 1926  731 1417 1024  849 1442\n",
      " 1649 1568  778 1489 2078 1454 1516 1067 1559 1127 1390 1273  918 1763\n",
      " 1090 1054 1039 1148 1002 1638  105  676 1184 1109  892 2217 1505 1059\n",
      "  951 2330 1670 1623 1017 1105 1001  546  480 1134 1104 1272 1316 1126\n",
      " 1181 1753  964 1466  925 1905 1500  585 1632  819 1616 1161  828  945\n",
      "  979  561  696 1330  817 1098 1428  673 1241  944 1225 1266 1128  485\n",
      " 1930 1396  916  822  750 1700 1007 1187  691 1574 1680 1346  985 1657\n",
      "  602 1022 1082  810 1504 1220 1132 1565 1338 1654 1620 1055  800 1306\n",
      " 1475 2524 1992 1193  973  854  662 1103 1154  942 1048  727  690 1096\n",
      " 1459 1251 1247 1074 1271  290  655 1463 1836  803  833  408  533 1012\n",
      " 1552 1005 1530  974 1567 1006 1042 1298  704  932 1219 1296 1198  959\n",
      " 1261 1598 1683  818 1600 2396 1624  831 1224  663  879  815 1630 2158\n",
      "  931 1660  559 1300 1702 1075 1361 1106 1476 1689 2076  792 2110 1405\n",
      " 1192  746 1986  841 2002 1332  935 1019  661 1309 1328 1085 6110 1246\n",
      "  771  976 1652 1278 1902 1274 1393 1622 1352  420 1795  544 1510  911\n",
      "  693 1284 1732 2033  570 1980  814  873  757 1108 2633 1571  984 1205\n",
      "  714 1746 1525  482 1356  862  839 1286 1485 1594  622  791  708 1223\n",
      "  913  656 1319 1932  539 1221 1542]\n",
      "['Y' 'N']\n",
      "[ 856 1262  920  961 1145  796 1694 1107 1022 1077 1040 1182  912 1494\n",
      " 1253  854 1004 1296 1114 1339 1158 1108 1795 1060 1600  900 1704  520\n",
      "  649 1228 1234 1700 1561 1132 1097 1297 1057 1152 1324 1328  884  938\n",
      " 1150 1752 1518 1656  736  955  794  816 1842 1360 1425  983  860 1426\n",
      "  780  581 1370  902 1143 2207 1479  747 1304 2223  845  885 1086  840\n",
      "  526  952 1072 1768  682 1337 1563 1065  804 1301  684  612 1013  990\n",
      " 1235  964 1260  905  680 1588  960  835 1225 1610  977 1535 1226 1053\n",
      " 1047  789  997 1844 1216  774 1282 2259 1436  729 1092 1125 1699  728\n",
      "  988  772 1080 1199 1586  958  660 1327 1721 1682 1214 1959  928  864\n",
      " 1734  910 1501 1728  970  875  896  969 1710 1252 1200  572  991 1392\n",
      " 1232 1572 1541  882 1149  808 1867 1707 1064 1362 1651 2158 1164 2234\n",
      "  968  769  901 1340  936 1217 1224 1593 1549  725 1431  855 1726  929\n",
      " 1713 1121 1279  865  848  720 1442 1696 1100 1180 1212  932  689 1236\n",
      "  810 1137 1248 1498 1010  811 2392  630  483 1555 1194 1490  894 1414\n",
      " 1014  798 1566  866  889  626 1222 1872  908 1375 1444 1306 1625 1302\n",
      " 1314 1005 1604  963 1382 1482  926  764 1422  802 1052  778 1113 1095\n",
      " 1363 1632 1560 2121 1156 1175 1468 1575  625 1085  858  698 1079 1148\n",
      " 1644 1003  975 1041 1336 1210 1675 2000 1122 1035  861 1944  697  972\n",
      "  793 2036  832  716 1153 1088 1372 1472 1249 1136 1553 1163 1898  803\n",
      " 1719 1383 1445  596 1056 1629 1358  943 1619 1922 1536 1621 1215  993\n",
      "  841 1684  536 1478 1848 1869 1453  616 1192 1167 1142 1352  495  790\n",
      "  672 1394 1268 1287  953 1120  752 1319  847  904  914 1580 1856 1007\n",
      " 1026  939  784 1269  658 1742  788  735 1144  876 1112 1288 1310 1165\n",
      "  806 1620 1166 1071 1050 1276 1028  756 1344 1602 1470 1196  707  907\n",
      " 1208 1412  765  827  734  694 2402 1440 1128 1258  933 1689 1888  956\n",
      "  679  813 1533  888  786 1242  624 1663  833  979  575  849 1277 1634\n",
      " 1502 1161 1976 1652 1493 2069 1718 1131 1850 1792  916  999 1073 1484\n",
      " 1766  886 3228 1133  899 1801 1218 1368 2020 1378 1244 3138 1266 1476\n",
      "  605 2515 1509  751  334  820  880 1159 1601 1838 1680  767  664 1377\n",
      "  915  768  825 1069 1717 1126 1006 1048  897 1557 1389  996 1134 1496\n",
      "  846  576  877 1320  703 1429 2042 1521  989 2028  838 1473  779  770\n",
      "  924 1826 1402 1647 1058  927  600 1186 1940 1029 1032 1299 1054  807\n",
      " 1828 1548  980 1012 1116 1520 1350 1089 1554 1411  800 1567  981 1094\n",
      " 1051  822  755  909 2113  525  851 1486 1686 1181 2097 1454 1465 1679\n",
      " 1437  738 1839  792 2046  923 1291 1668 1195 1190  874  551 1419 2444\n",
      " 1238 1067 1391 1800 1264  372 1824  859 1576 1178 1325  971 1698 1776\n",
      " 1616 1146  948 1349 1464 1720 1038  742  757 1506 1836 1690 1220 1117\n",
      " 1973 1204 1614 1430 1110 1342  966  976 1062 1127 1285  773 1966 1428\n",
      " 1075 1309 1044  686 1661 1008  944 1489 2084 1434 1160  941 1516 1559\n",
      " 1099 1701 1307 1456  918 1779  702 1512 1039 1002 1646 1547 1036  676\n",
      " 1184 1462 1155 1090 1187  954  892 1709 1712  872 2217 1505 1068  951\n",
      " 2364 1670 1063 1636 1020 1105 1015 1001  546  480 1229 1272 1316 1617\n",
      " 1098 1788 1466  925 1905 1500 1207 1188 1381  965 1168  561  696 1542\n",
      "  824  783  673  869 1241 1118 1407  750  691 1574 1504  985 1657 1664\n",
      " 1082 2898 1687 1654 1055 1803 1532 2524 1733 1992 1771  930 1526 1091\n",
      " 1523 1364 1130 1096 1338 1103 1154  799  893  829 1240 1459 1251 1247\n",
      " 1390  438  950  887 1021 1552  812 1530  974  986 1042 1298 1811 1265\n",
      " 1640 1432  959 1831 1261 1170 2129  818 1124 2411  949 1624  831 1622\n",
      "  842  663  879  815 1630 1074 2196 1283 1660 1318 1211 2136 1138 1702\n",
      " 1507 1361 1024 1141 1173 2076 1140 1034 2110 1405  760 1987 1104  713\n",
      " 2018 1968 1332  935 1357  661 1724 1573 1582 1659 4692 1246  753 1203\n",
      " 1294 1902 1274 1787 1061  708 1584 1334  693 1284 1172 2156 2053  992\n",
      " 1078 1980 1281  814 2633 1571  984  754 2117  998 1416 1746 1525 1221\n",
      "  741 1569 1223  962 1537 1932 1423  913 1578 2073 1256]\n",
      "[ 854    0  866  756 1053  566  983  752 1142 1218  668 1320  631  716\n",
      "  676  860 1519  530  808  977 1330  833  765  462  213  548  960  670\n",
      " 1116  876  612 1031  881  790  755  592  939  520  639  656 1414  884\n",
      "  729 1523  728  351  688  941 1032  848  836  475  739 1151  448  896\n",
      "  524 1194  956 1070 1096  467  547  551  880  703  901  720  316 1518\n",
      "  704 1178  754  601 1360  929  445  564  882  920  518  817 1257  741\n",
      "  672 1306  504 1304 1100  730  689  591  888 1020  828  700  842 1286\n",
      "  864  829 1092  709  844 1106  596  807  625  649  698  840  780  568\n",
      "  795  648  975  702 1242 1818 1121  371  804  325  809 1200  871 1274\n",
      " 1347 1332 1177 1080  695  167  915  576  605  862  495  403  838  517\n",
      " 1427  784  711  468 1081  886  793  665  858  874  526  590  406 1157\n",
      "  299  936  438 1098  766 1101 1028 1017 1254  378 1160  682  110  600\n",
      "  678  834  384  512  930  868  224 1103  560  811  878  574  910  620\n",
      "  687  546  902 1000  846 1067  914  660 1538 1015 1237  611  707  527\n",
      " 1288  832  806 1182 1040  439  717  511 1129 1370  636  533  745  584\n",
      "  812  684  595  988  800  677  573 1066  778  661 1440  872  788  843\n",
      "  713  567  651  762  482  738  586  679  644  900  887 1872 1281  472\n",
      " 1312  319  978 1093  473  664 1540 1276  441  348 1060  714  744 1203\n",
      "  783 1097  734  767 1589  742  686 1128 1111 1174  787 1072 1088 1063\n",
      "  545  966  623  432  581  540  769 1051  761  779  514  455 1426  785\n",
      "  521  252  813 1120 1037 1169 1001 1215  928 1140 1243  571 1196 1038\n",
      "  561  979  701  332  368  883 1336 1141  634  912  798  985  826  831\n",
      "  750  456  602  855  336  408  980  998 1168 1208  797  850  898 1054\n",
      "  895  954  772 1230  727  454  370  628  304  582 1122 1134  885  640\n",
      "  580 1112  653  220  240 1362  534  539  650  918  933  712 1796  971\n",
      " 1175  743  523 1216 2065  272  685  776  630  984  875  913  464 1039\n",
      " 1259  940  892  725  924  764  925 1479  192  589  992  903  430  748\n",
      "  587  994  950 1323  732 1357  557 1296  390 1185  873 1611  457  796\n",
      "  908  550  989  932  358 1392  349  691 1349  768  208  622  857  556\n",
      " 1044  708  626  904  510 1104  830  981  870  694 1152]\n",
      "[1710 1262 1786 1717 2198 1362 1694 2090 1774 1077 1040 2324  912 1494\n",
      " 1253  854 1004 1296 1114 1339 2376 1108 1795 1060 1600  900 1704  520\n",
      " 1317 1228 1234 1700 1561 2452 1097 1297 1057 1152 1324 1328  884  938\n",
      " 1150 1752 2149 1656 1452  955 1470 1176  816 1842 1360 1425 1739 1720\n",
      " 2945  780 1158 1111 1370 2034 2473 2207 1479  747 2287 2223  845 1718\n",
      " 1086 1605  988  952 1285 1768 1230 2142 1337 1563 1065 1474 2417 1560\n",
      " 1224 1526  990 1235  964 2291 1588  960  835 1225 1610 1732 1535 1226\n",
      " 1818 1992 1047  789 1517 1844 1855 1430 2696 2259 2320 1458 1092 1125\n",
      " 3222 1456 1123 1080 1199 1586  754  958  840 1348 1053 2157 2054 1327\n",
      " 1721 1682 1214 1959 1852 1764  864 1734 1385 1501 1728 1709  875 2035\n",
      " 1344  969 1993 1252 1200 1096 1968 1947 2462 1232 2668 1541  882 1616\n",
      " 1355 1867 2161 1707 1382 1767 1651 2158 2060 1920 2234  968 1525 1802\n",
      " 1340 2082 3608 1217 1593 2727 1431 1726 3112 2229 1713 1121 1279 1310\n",
      "  848 1284 1442 1696 1100 2062 1212 1392 1236 1436 1954 1248 1498 2267\n",
      " 1552 2392 1302 2520  987 1555 1194 2794  894 1960 1414 1744 1487 1566\n",
      "  866 1440 2110 1872 1928 1375 1668 2144 1306 1625 1640 1314 1604 1792\n",
      " 2574 1316  764 1422 1511 2192  778 1113 1939 1363 2270 1632 1548 2121\n",
      " 2022 1982 1468 1575 1250  858 1396 1919 1716 2263 1644 1003 1558 1950\n",
      " 1743 1336 3493 2000 2243 1406  861 1944  972 1118 2036 1641 1432 2353\n",
      " 2646 1472 2596 2468 2730 1163 2978  803 1719 1383 2134 1192 1056 1629\n",
      " 1358 1638 1922 1536 1621 1215 1908  841 1684 1112 1577 1478 1626 2728\n",
      " 1869 1453  720 1595 1167 1142 1352 1924 1505 1574 1394 1268 1287 1664\n",
      "  752 1319  904  914 2466 1856 1800 1691 1301 1797  784 1953 1269 1184\n",
      " 2332 1367 1961  788 1034 1144 1812 1550 1288  672 1572 1620 1639 1680\n",
      " 2172 2078 1276 1028 2097 1400 2624 1134 1602 2630 1196 1389  907 1208\n",
      " 1412 1198 1365  630 1661  694 2402 1573 1258 1689 1888 1886 1376 1183\n",
      "  813 1533 1756 1590 1242 1663 1666 1203 1935 1135 1660 1277 1634 1502\n",
      " 1969 1072 1976 1652  970 1493 2643 1131 1850 1826 1216  999 1073 1484\n",
      " 2414 1304 1578  886 3228 1820  899 1218 1801 1322 1911 1378 1041 1368\n",
      " 2020 2119 2344 1796 2080 1294 1244 4676 2398 1266  928 2713  605 2515\n",
      " 1509  827  334 1347 1724 1159 1601 1838 2285  767 1496 2183 1635  768\n",
      "  825 2094 1069 1126 2046 1048 1446 1557  996 1674 2295 1647 2504 2132\n",
      "  943 1692 1109 1477 1320 1429 2042 2775 2028  838  860 1473  935 1582\n",
      " 2296  924 1402 1556 1904 1915 1986 2008 3194 1029 2153 1032 1120 1054\n",
      "  832 1828 2262 2614  980 1512 1790 1116 1520 1350 1750 1554 1411 3395\n",
      "  800 1387  796 1567 1518 1929 2704 1766  981 1094 1839 1665 1510 1469\n",
      " 2113 1486 2448 1181 1936 2380 1679 1437 1180 1476 1369 1136 1441  792\n",
      "  923 1291 1761 1102 1419 4316 2519 1539 1137  616 1148 1391 1164 2576\n",
      " 1824  729 1178 2554 2418  971 1742 1698 1776 1146 2031  948 1349 1464\n",
      " 2715 2256 2640 1529 1140 2098 1026 1471 1386 2531 1547 2365 1506 1714\n",
      " 1836 3279 1220 1117 1973 1204 1614 1603 1110 1342 2084  901 2087 1145\n",
      " 1062 2013 1895 1564  773 3140 1688 2822 1128 1428 1576 2138 1309 1044\n",
      " 1008 1052  936 1733 1489 1434 2126 1223 1829 1516 1067 1559 1099 1482\n",
      " 1165 1416 1701 1775 2358 1646 1445 1779 1481 2654 1426 1039 1372 1002\n",
      " 1949  910 2610 2224 1155 1090 2230  892 1712 1393 2217 1683 1068  951\n",
      " 2240 2364 1670  902 1063 1636 2057 2274 1015 2002  480 1229 2127 2200\n",
      " 1617 1686 2374 1978 1788 2236 1466  925 1905 1500 2069 1971 1962 2403\n",
      " 1381  965 1958 2872 1894 1308 1098 1095  918 2019  869 1241 2612 2290\n",
      " 1940 2030 1851 1050  944  691 1504  985 1657 1522 1271 1022 1082 1132\n",
      " 2898 1264 3082 1654  954 1803 2329 2524 2868 1771  930 1977 1989 1523\n",
      " 1364 2184 1991 1338 2337 1103 1154 2260 1571 1611 2521  893 1240 1740\n",
      " 1459 1251 1247 1088  438  950 2622 2021 1690 1658 1964  833 1012  698\n",
      " 1005 1530 1981  974 2210  986 1020 1868 2828 1006 1298  932 1811 1265\n",
      " 1580 1876 1671 2108 3627 1261 3086 2345 1343 1124 2514 4476 1130 1221\n",
      " 1699 1624 1804 1622 1863 1630 1074 2196 1283 1845 1902 1211 1846 2136\n",
      " 1490 1138 1933 1702 1507 2620 1190 1188 1784 1948 1141 1173 2076 1553\n",
      " 2058 1405  874 2167 1987 1166 1675 1889 2018 3447 1524 1357 1395 2447\n",
      " 1659 1970 2372 5642 1246 1983 2526 1708 1122 1274 2810 2599 2112 1787\n",
      " 1923  708  774 2792 1334  693 1861  872 2169 1913 2156 2634 3238 1865\n",
      " 1078 1980 2601 1738 1475 1374 2633  790 2117 1762 2784 1746 1584 1912\n",
      " 2482 1687 1513 1608 2093 1840 1848 1569 2450 2201  804 1537 1932 1725\n",
      " 2555 2007  913 1346 2073 2340 1256]\n",
      "[1 0 2 3]\n",
      "[0 1 2]\n",
      "[2 1 3 0]\n",
      "[1 0 2]\n",
      "[3 4 1 2 0 5 6 8]\n",
      "[1 2 3 0]\n",
      "[ 8  6  7  9  5 11  4 10 12  3  2 14]\n",
      "[0 1 2 3]\n",
      "['Attchd' 'Detchd' 'BuiltIn' 'CarPort' 0 'Basment' '2Types']\n",
      "[2003. 1976. 2001. 1998. 2000. 1993. 2004. 1973. 1931. 1939. 1965. 2005.\n",
      " 1962. 2006. 1960. 1991. 1970. 1967. 1958. 1930. 2002. 1968. 2007. 2008.\n",
      " 1957. 1920. 1966. 1959. 1995. 1954. 1953.    0. 1983. 1977. 1997. 1985.\n",
      " 1963. 1981. 1964. 1999. 1935. 1990. 1945. 1987. 1989. 1915. 1956. 1948.\n",
      " 1974. 2009. 1950. 1961. 1921. 1900. 1979. 1951. 1969. 1936. 1975. 1971.\n",
      " 1923. 1984. 1926. 1955. 1986. 1988. 1916. 1932. 1972. 1918. 1980. 1924.\n",
      " 1996. 1940. 1949. 1994. 1910. 1978. 1982. 1992. 1925. 1941. 2010. 1927.\n",
      " 1947. 1937. 1942. 1938. 1952. 1928. 1922. 1934. 1906. 1914. 1946. 1908.\n",
      " 1929. 1933.]\n",
      "[2 3 1 0 4]\n",
      "[ 548  460  608  642  836  480  636  484  468  205  384  736  352  840\n",
      "  576  516  294  853  280  534  572  270  890  772  319  240  250  271\n",
      "  447  556  691  672  498  246    0  440  308  504  300  670  826  386\n",
      "  388  528  894  565  641  288  645  852  558  220  667  360  427  490\n",
      "  379  297  283  509  405  758  461  400  462  420  432  506  684  472\n",
      "  366  476  410  740  648  273  546  325  792  450  180  430  594  390\n",
      "  540  264  530  435  453  750  487  624  471  318  766  660  470  720\n",
      "  577  380  434  866  495  564  312  625  680  678  726  532  216  303\n",
      "  789  511  616  521  451 1166  252  497  682  666  786  795  856  473\n",
      "  398  500  349  454  644  299  210  431  438  675  968  721  336  810\n",
      "  494  457  818  463  604  389  538  520  309  429  673  884  868  492\n",
      "  413  924 1053  439  671  338  573  732  505  575  626  898  529  685\n",
      "  281  539  418  588  282  375  683  843  552  870  888  746  708  513\n",
      " 1025  656  872  292  441  189  880  676  301  474  706  617  445  200\n",
      "  592  566  514  296  244  610  834  639  501  846  560  596  600  373\n",
      "  947  350  396  864  304  784  696  569  628  550  493  578  198  422\n",
      "  228  526  525  908  499  508  694  874  164  402  515  286  603  900\n",
      "  583  889  858  502  392  403  527  765  367  426  615  871  570  406\n",
      "  590  612  650 1390  275  452  842  816  621  544  486  230  261  531\n",
      "  393  774  749  364  627  260  256  478  442  562  512  839  330  711\n",
      " 1134  416  779  702  567  832  326  551  606  739  408  475  704  983\n",
      "  768  632  541  320  800  831  554  878  752  614  481  496  423  841\n",
      "  895  412  865  630  605  602  618  444  397  455  409  820 1020  598\n",
      "  857  595  433  776 1220  458  613  456  436  812  686  611  425  343\n",
      "  479  619  902  574  523  414  738  354  483  327  756  690  284  833\n",
      "  601  533  522  788  555  689  796  808  510  255  424  305  368  824\n",
      "  328  160  437  665  290  912  905  542  716  586  467  582 1248 1043\n",
      "  254  712  719  862  928  782  466  714 1052  225  234  324  306  830\n",
      "  807  358  186  693  482  813  995  757 1356  459  701  322  315  668\n",
      "  404  543  954  850  477  276  518 1014  753 1418  213  844  860  748\n",
      "  248  287  825  647  342  770  663  377  804  936  722  208  662  754\n",
      "  622  620  370 1069  372  923  192]\n",
      "[ 2  5  9 12 10  8 11  4  1  7  3  6]\n",
      "[2008 2007 2006 2009 2010]\n",
      "[208500 181500 223500 140000 250000 143000 307000 200000 129900 118000\n",
      " 129500 345000 144000 279500 157000 132000 149000  90000 159000 139000\n",
      " 325300 139400 230000 154000 256300 134800 306000 207500  68500  40000\n",
      " 149350 179900 165500 277500 309000 145000 153000 109000  82000 160000\n",
      " 170000 130250 141000 319900 239686 249700 113000 127000 177000 114500\n",
      " 110000 385000 130000 180500 172500 196500 438780 124900 158000 101000\n",
      " 202500 219500 317000 180000 226000  80000 225000 244000 185000 144900\n",
      " 107400  91000 135750 136500 193500 153500 245000 126500 168500 260000\n",
      " 174000 164500  85000 123600 109900  98600 163500 133900 204750 214000\n",
      "  94750  83000 128950 205000 178000 118964 198900 169500 100000 115000\n",
      " 190000 136900 383970 217000 259500 176000 155000 320000 163990 136000\n",
      " 153900 181000  84500 128000  87000 150000 150750 220000 171000 231500\n",
      " 166000 204000 125000 105000 222500 122000 372402 235000  79000 109500\n",
      " 269500 254900 162500 412500 103200 152000 127500 325624 183500 228000\n",
      " 128500 215000 239000 163000 184000 243000 211000 501837 200100 120000\n",
      " 475000 173000 135000 153337 286000 315000 192000 148500 311872 104000\n",
      " 274900 171500 112000 143900 277000  98000 186000 252678 156000 161750\n",
      " 134450 210000 107000 311500 167240 204900  97000 386250 290000 106000\n",
      " 192500 148000 403000  94500 128200 216500  89500 185500 194500 318000\n",
      " 262500 110500 241500 137000  76500 276000 151000  73000 175500 179500\n",
      " 120500 266000 124500 201000 415298 228500 244600 179200 164700  88000\n",
      " 153575 233230 135900 131000 167000 142500 175000 158500 267000 149900\n",
      " 295000 305900  82500 360000 165600 119900 375000 188500 270000 187500\n",
      " 342643 354000 301000 126175 242000 324000 145250 214500  78000 119000\n",
      " 284000 207000 228950 377426 202900  87500 140200 151500 157500 437154\n",
      " 318061  95000 105900 177500 134000 280000 198500 147000 165000 162000\n",
      " 172400 134432 123000  61000 340000 394432 179000 187750 213500  76000\n",
      " 240000  81000 191000 426000 106500 129000  67000 241000 245500 164990\n",
      " 108000 258000 168000 339750  60000 222000 181134 149500 126000 142000\n",
      " 206300 275000 109008 195400  85400  79900 122500 212000 116000  90350\n",
      " 555000 162900 199900 119500 188000 256000 161000 263435  62383 188700\n",
      " 124000 178740 146500 187000 440000 251000 132500 208900 380000 297000\n",
      "  89471 326000 374000 164000  86000 133000 172785  91300  34900 430000\n",
      " 226700 289000 208300 164900 202665  96500 402861 265000 234000 106250\n",
      " 184750 315750 446261 200624 107500  39300 111250 272000 248000 213250\n",
      " 179665 229000 263000 112500 255500 121500 268000 325000 316600 135960\n",
      " 142600 224500 118500 146000 131500 181900 253293 369900  79500 185900\n",
      " 451950 138000 319000 114504 194201 217500 221000 359100 313000 261500\n",
      "  75500 137500 183200 105500 314813 305000 165150 139900 209500  93000\n",
      " 264561 274000 370878 143250  98300 205950 350000 145500  97500 197900\n",
      " 402000 423000 230500 173500 103600 257500 372500 159434 285000 227875\n",
      " 148800 392000 194700 755000 335000 108480 141500  89000 123500 138500\n",
      " 196000 312500 361919 213000  55000 302000 254000 179540  52000 102776\n",
      " 189000 130500 159500 341000 103000 236500 131400  93500 239900 299800\n",
      " 236000 265979 260400 275500 158900 179400 215200 337000 264132 216837\n",
      " 538000 134900 102000 395000 221500 175900 187100 161500 233000 107900\n",
      " 160200 146800 269790 143500 485000 582933 227680 135500 159950 144500\n",
      "  55993 157900 224900 271000 224000 183000 139500 232600 147400 237000\n",
      " 139950 174900 133500 189950 250580 248900 169000 200500  66500 303477\n",
      " 132250 328900 122900 154500 118858 142953 611657 125500 255000 154300\n",
      " 173733  75000  35311 238000 176500 145900 169990 193000 117500 184900\n",
      " 253000 239799 244400 150900 197500 172000 116500 214900 178900  37900\n",
      "  99500 182000 167500  85500 178400 336000 159895 255900 117000 395192\n",
      " 195000 197000 348000 173900 337500 121600 206000 232000 136905 119200\n",
      " 227000 203000 213490 194000 287000 293077 310000 119750  84000 315500\n",
      " 262280 278000 139600 556581  84900 176485 200141 185850 328000 167900\n",
      " 151400  91500 138800 155900  83500 252000  92900 176432 274725 134500\n",
      " 184100 133700 118400 212900 163900 259000 239500  94000 424870 174500\n",
      " 116900 201800 218000 235128 108959 233170 245350 625000 171900 154900\n",
      " 392500 745000 186700 104900 262000 219210 116050 271900 229456  80500\n",
      " 137900 367294 101800 138887 265900 248328 465000 186500 169900 171750\n",
      " 294000 165400 301500  99900 128900 183900 378500 381000 185750  68400\n",
      " 150500 281000 333168 206900 295493 111000 156500  72500  52500 155835\n",
      " 108500 283463 410000 156932 144152 216000 274300 466500  58500 237500\n",
      " 377500 246578 281213 137450 193879 282922 257000 223000 274970 182900\n",
      " 192140 143750  64500 394617 149700 149300 121000 179600  92000 287090\n",
      " 266500 142125 147500]\n",
      "['VinylSd' 'MetalSd' 'Wd Sdng' 'HdBoard' 'BrkFace' 'WdShing' 'CemntBd'\n",
      " 'Plywood' 'AsbShng' 'Stucco' 'BrkComm' 'AsphShn' 'Stone' 'ImStucc'\n",
      " 'CBlock']\n"
     ]
    }
   ],
   "source": [
    "for column in df:\n",
    "    df[column] = df[column].fillna(0)\n",
    "    print(df[column].unique())"
   ]
  },
  {
   "cell_type": "markdown",
   "metadata": {},
   "source": [
    "# 3. Remove unwanted outliers"
   ]
  },
  {
   "cell_type": "code",
   "execution_count": null,
   "metadata": {},
   "outputs": [],
   "source": []
  },
  {
   "cell_type": "markdown",
   "metadata": {},
   "source": [
    "# 4. Label missing categorical data"
   ]
  },
  {
   "cell_type": "code",
   "execution_count": null,
   "metadata": {},
   "outputs": [],
   "source": []
  },
  {
   "cell_type": "markdown",
   "metadata": {},
   "source": [
    "# 5. Flag and fill missing numeric data"
   ]
  },
  {
   "cell_type": "code",
   "execution_count": null,
   "metadata": {},
   "outputs": [],
   "source": []
  },
  {
   "cell_type": "markdown",
   "metadata": {},
   "source": [
    "# 6. Save cleaned dataframe to new file"
   ]
  },
  {
   "cell_type": "code",
   "execution_count": null,
   "metadata": {},
   "outputs": [],
   "source": []
  },
  {
   "cell_type": "markdown",
   "metadata": {},
   "source": [
    "<h1 style=\"font-size:42px; text-align:center; margin-bottom:30px;\"><span style=\"color:SteelBlue\"></span> Feature Engineering</h1>\n",
    "<hr>"
   ]
  },
  {
   "cell_type": "markdown",
   "metadata": {},
   "source": [
    "# 1. Start with domain knowledge"
   ]
  },
  {
   "cell_type": "code",
   "execution_count": null,
   "metadata": {},
   "outputs": [],
   "source": []
  },
  {
   "cell_type": "markdown",
   "metadata": {},
   "source": [
    "# 2. Create interaction features"
   ]
  },
  {
   "cell_type": "code",
   "execution_count": null,
   "metadata": {},
   "outputs": [],
   "source": []
  },
  {
   "cell_type": "markdown",
   "metadata": {},
   "source": [
    "# 3. Group sparse classes"
   ]
  },
  {
   "cell_type": "code",
   "execution_count": null,
   "metadata": {},
   "outputs": [],
   "source": []
  },
  {
   "cell_type": "markdown",
   "metadata": {},
   "source": [
    "# 4. Encode dummy variables"
   ]
  },
  {
   "cell_type": "code",
   "execution_count": null,
   "metadata": {},
   "outputs": [],
   "source": []
  },
  {
   "cell_type": "markdown",
   "metadata": {},
   "source": [
    "# 5. Remove unused or redundant features"
   ]
  },
  {
   "cell_type": "code",
   "execution_count": null,
   "metadata": {},
   "outputs": [],
   "source": []
  },
  {
   "cell_type": "markdown",
   "metadata": {},
   "source": [
    "# 6. Save analytical base table"
   ]
  },
  {
   "cell_type": "markdown",
   "metadata": {},
   "source": [
    "<h1 style=\"font-size:42px; text-align:center; margin-bottom:30px;\"><span style=\"color:SteelBlue\"></span> Model Training</h1>\n",
    "<hr>"
   ]
  },
  {
   "cell_type": "code",
   "execution_count": null,
   "metadata": {},
   "outputs": [],
   "source": [
    "# Scikit-Learn for Modeling\n",
    "\n",
    "# Import Elastic Net, Ridge Regression, and Lasso Regression\n",
    "\n",
    "# Import Random Forest and Gradient Boosted Trees\n"
   ]
  },
  {
   "cell_type": "markdown",
   "metadata": {},
   "source": [
    "# 1. Split your dataset"
   ]
  },
  {
   "cell_type": "code",
   "execution_count": null,
   "metadata": {},
   "outputs": [],
   "source": []
  },
  {
   "cell_type": "markdown",
   "metadata": {},
   "source": [
    "# 2. Build model pipelines"
   ]
  },
  {
   "cell_type": "code",
   "execution_count": null,
   "metadata": {},
   "outputs": [],
   "source": []
  },
  {
   "cell_type": "markdown",
   "metadata": {},
   "source": [
    "# 3. Declare hyperparameters to tune"
   ]
  },
  {
   "cell_type": "code",
   "execution_count": null,
   "metadata": {},
   "outputs": [],
   "source": []
  },
  {
   "cell_type": "markdown",
   "metadata": {},
   "source": [
    "# 4. Fit and tune models with cross-validation"
   ]
  },
  {
   "cell_type": "code",
   "execution_count": null,
   "metadata": {},
   "outputs": [],
   "source": []
  },
  {
   "cell_type": "markdown",
   "metadata": {},
   "source": [
    "# 5. Evaluate models and select winner"
   ]
  },
  {
   "cell_type": "code",
   "execution_count": null,
   "metadata": {},
   "outputs": [],
   "source": []
  },
  {
   "cell_type": "markdown",
   "metadata": {},
   "source": [
    "# 6. Save the winning model"
   ]
  },
  {
   "cell_type": "code",
   "execution_count": null,
   "metadata": {},
   "outputs": [],
   "source": []
  }
 ],
 "metadata": {
  "kernelspec": {
   "display_name": "Python 3",
   "language": "python",
   "name": "python3"
  },
  "language_info": {
   "codemirror_mode": {
    "name": "ipython",
    "version": 3
   },
   "file_extension": ".py",
   "mimetype": "text/x-python",
   "name": "python",
   "nbconvert_exporter": "python",
   "pygments_lexer": "ipython3",
   "version": "3.6.5"
  }
 },
 "nbformat": 4,
 "nbformat_minor": 2
}
